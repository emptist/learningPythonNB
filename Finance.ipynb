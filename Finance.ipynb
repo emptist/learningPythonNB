{
 "cells": [
  {
   "cell_type": "code",
   "execution_count": 2,
   "metadata": {
    "collapsed": true
   },
   "outputs": [],
   "source": [
    "import pandas as pd\n",
    "import os\n",
    "import time\n",
    "from datetime import datetime"
   ]
  },
  {
   "cell_type": "code",
   "execution_count": 1,
   "metadata": {
    "collapsed": true
   },
   "outputs": [],
   "source": [
    "path = \"X:/Backups/intraQuarter\" #该教程配备数据下载存放位置"
   ]
  },
  {
   "cell_type": "code",
   "execution_count": null,
   "metadata": {
    "collapsed": true
   },
   "outputs": [],
   "source": [
    "def Key_Stats(gather=\"Total Debt/Equity (mrq)\"):\n",
    "    statspath = path+'/_KeyStats'\n",
    "    stock_list = [x[0] for x in os.walk(statspath)]\n",
    "    #print(stock_list)\n",
    "    \n",
    "    for each_dir in stock_list[1:]:\n",
    "        each_file = os.listdir(each_dir)\n",
    "        ticker = each_dir.split(\"\\\\\")[1]\n",
    "        if len(each_file) > 0:\n",
    "            for file in each_file:\n",
    "                date_stamp = datetime.strptime(file, '%Y%m%d%H%M%S.html')\n",
    "                unix_time = time.mktime(date_stamp.timetuple())\n",
    "                print(date_stamp, unix_time)\n",
    "                #time.sleep(15)\n",
    "                full_file_path = each_dir+'/'+file\n",
    "                print(full_file_path)\n",
    "                source = open(full_file_path,'r').read()\n",
    "                #print(source)\n",
    "                value = source.split(gather+':</td><td class=\"yfnc_tabledata1\">')[1].split('</td>')[0]\n",
    "                print(ticker+\":\",value)\n",
    "            \n",
    "            time.sleep(15)\n",
    "            \n",
    "Key_Stats()"
   ]
  },
  {
   "cell_type": "code",
   "execution_count": null,
   "metadata": {
    "collapsed": true
   },
   "outputs": [],
   "source": []
  }
 ],
 "metadata": {
  "kernelspec": {
   "display_name": "Python 3",
   "language": "python",
   "name": "python3"
  },
  "language_info": {
   "codemirror_mode": {
    "name": "ipython",
    "version": 3
   },
   "file_extension": ".py",
   "mimetype": "text/x-python",
   "name": "python",
   "nbconvert_exporter": "python",
   "pygments_lexer": "ipython3",
   "version": "3.4.3"
  }
 },
 "nbformat": 4,
 "nbformat_minor": 0
}
