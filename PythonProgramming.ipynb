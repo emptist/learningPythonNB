{
 "cells": [
  {
   "cell_type": "markdown",
   "metadata": {},
   "source": [
    "# Python Programming Course\n",
    "\n",
    "## Importing Modules "
   ]
  },
  {
   "cell_type": "code",
   "execution_count": null,
   "metadata": {
    "collapsed": true
   },
   "outputs": [],
   "source": [
    "import statistics #or form statistics import * <--this will save latter keyboard works as statistics. is not needed "
   ]
  },
  {
   "cell_type": "code",
   "execution_count": 16,
   "metadata": {
    "collapsed": true
   },
   "outputs": [],
   "source": [
    "example_list = [5,2,5,6,1,2,6,7,2,6,3,5,5,25,2,14,13]"
   ]
  },
  {
   "cell_type": "code",
   "execution_count": 9,
   "metadata": {
    "collapsed": false
   },
   "outputs": [
    {
     "name": "stdout",
     "output_type": "stream",
     "text": [
      "6.294117647058823\n"
     ]
    }
   ],
   "source": [
    "x = statistics.mean(example_list)\n",
    "print(x)"
   ]
  },
  {
   "cell_type": "code",
   "execution_count": 10,
   "metadata": {
    "collapsed": false
   },
   "outputs": [
    {
     "name": "stdout",
     "output_type": "stream",
     "text": [
      "5\n"
     ]
    }
   ],
   "source": [
    "y = statistics.median(example_list)\n",
    "print(y)"
   ]
  },
  {
   "cell_type": "code",
   "execution_count": 11,
   "metadata": {
    "collapsed": false
   },
   "outputs": [
    {
     "name": "stdout",
     "output_type": "stream",
     "text": [
      "5\n"
     ]
    }
   ],
   "source": [
    "z = statistics.mode(example_list)\n",
    "print(z)"
   ]
  },
  {
   "cell_type": "code",
   "execution_count": 12,
   "metadata": {
    "collapsed": false
   },
   "outputs": [
    {
     "name": "stdout",
     "output_type": "stream",
     "text": [
      "18.63385596797652\n"
     ]
    }
   ],
   "source": [
    "a = statistics.stdev(example_list)\n",
    "print(a)"
   ]
  },
  {
   "cell_type": "code",
   "execution_count": 17,
   "metadata": {
    "collapsed": false
   },
   "outputs": [
    {
     "name": "stdout",
     "output_type": "stream",
     "text": [
      "35.882352941176464\n"
     ]
    }
   ],
   "source": [
    "b = statistics.variance(example_list)\n",
    "print(b)"
   ]
  },
  {
   "cell_type": "markdown",
   "metadata": {},
   "source": [
    "##Making Your Own Modules"
   ]
  },
  {
   "cell_type": "code",
   "execution_count": 18,
   "metadata": {
    "collapsed": false
   },
   "outputs": [
    {
     "data": {
      "text/plain": [
       "['__builtins__',\n",
       " '__cached__',\n",
       " '__doc__',\n",
       " '__file__',\n",
       " '__loader__',\n",
       " '__name__',\n",
       " '__package__',\n",
       " '__spec__',\n",
       " 'add']"
      ]
     },
     "execution_count": 18,
     "metadata": {},
     "output_type": "execute_result"
    }
   ],
   "source": [
    "#I've made a testmodule.py in notebook folder\n",
    "import testmodule\n",
    "dir(testmodule)"
   ]
  },
  {
   "cell_type": "code",
   "execution_count": 20,
   "metadata": {
    "collapsed": false
   },
   "outputs": [
    {
     "data": {
      "text/plain": [
       "3"
      ]
     },
     "execution_count": 20,
     "metadata": {},
     "output_type": "execute_result"
    }
   ],
   "source": [
    "testmodule.add(1, 2)"
   ]
  },
  {
   "cell_type": "markdown",
   "metadata": {},
   "source": [
    "## Tuple [tup as in cup] and List (Array alike)"
   ]
  },
  {
   "cell_type": "code",
   "execution_count": 21,
   "metadata": {
    "collapsed": false
   },
   "outputs": [
    {
     "data": {
      "text/plain": [
       "(1, 2, 3)"
      ]
     },
     "execution_count": 21,
     "metadata": {},
     "output_type": "execute_result"
    }
   ],
   "source": [
    "1,2,3"
   ]
  },
  {
   "cell_type": "code",
   "execution_count": 22,
   "metadata": {
    "collapsed": true
   },
   "outputs": [],
   "source": [
    "aList = [1,2,3]"
   ]
  },
  {
   "cell_type": "code",
   "execution_count": 23,
   "metadata": {
    "collapsed": true
   },
   "outputs": [],
   "source": [
    "aList.append(4)"
   ]
  },
  {
   "cell_type": "code",
   "execution_count": 24,
   "metadata": {
    "collapsed": false
   },
   "outputs": [
    {
     "data": {
      "text/plain": [
       "[1, 2, 3, 4]"
      ]
     },
     "execution_count": 24,
     "metadata": {},
     "output_type": "execute_result"
    }
   ],
   "source": [
    "aList"
   ]
  },
  {
   "cell_type": "code",
   "execution_count": 25,
   "metadata": {
    "collapsed": true
   },
   "outputs": [],
   "source": [
    "aList.insert(2,5)"
   ]
  },
  {
   "cell_type": "code",
   "execution_count": 26,
   "metadata": {
    "collapsed": false
   },
   "outputs": [
    {
     "data": {
      "text/plain": [
       "[1, 2, 5, 3, 4]"
      ]
     },
     "execution_count": 26,
     "metadata": {},
     "output_type": "execute_result"
    }
   ],
   "source": [
    "aList"
   ]
  },
  {
   "cell_type": "code",
   "execution_count": 27,
   "metadata": {
    "collapsed": false
   },
   "outputs": [
    {
     "data": {
      "text/plain": [
       "[1, 2, 3, 4]"
      ]
     },
     "execution_count": 27,
     "metadata": {},
     "output_type": "execute_result"
    }
   ],
   "source": [
    "aList.remove(5)\n",
    "aList"
   ]
  },
  {
   "cell_type": "code",
   "execution_count": 30,
   "metadata": {
    "collapsed": false
   },
   "outputs": [
    {
     "data": {
      "text/plain": [
       "4"
      ]
     },
     "execution_count": 30,
     "metadata": {},
     "output_type": "execute_result"
    }
   ],
   "source": [
    "aList[3]"
   ]
  },
  {
   "cell_type": "code",
   "execution_count": 31,
   "metadata": {
    "collapsed": false
   },
   "outputs": [
    {
     "data": {
      "text/plain": [
       "2"
      ]
     },
     "execution_count": 31,
     "metadata": {},
     "output_type": "execute_result"
    }
   ],
   "source": [
    "aList.index(3)"
   ]
  },
  {
   "cell_type": "code",
   "execution_count": 32,
   "metadata": {
    "collapsed": false
   },
   "outputs": [
    {
     "data": {
      "text/plain": [
       "4"
      ]
     },
     "execution_count": 32,
     "metadata": {},
     "output_type": "execute_result"
    }
   ],
   "source": [
    "aList[aList.index(4)]"
   ]
  },
  {
   "cell_type": "code",
   "execution_count": 33,
   "metadata": {
    "collapsed": false
   },
   "outputs": [
    {
     "data": {
      "text/plain": [
       "[1, 2, 3, 4, [...]]"
      ]
     },
     "execution_count": 33,
     "metadata": {},
     "output_type": "execute_result"
    }
   ],
   "source": [
    "aList.append(aList)\n",
    "aList"
   ]
  },
  {
   "cell_type": "code",
   "execution_count": 34,
   "metadata": {
    "collapsed": true
   },
   "outputs": [],
   "source": [
    "aList.remove(aList)"
   ]
  },
  {
   "cell_type": "code",
   "execution_count": 38,
   "metadata": {
    "collapsed": false
   },
   "outputs": [],
   "source": [
    "aList.reverse()"
   ]
  },
  {
   "cell_type": "code",
   "execution_count": 39,
   "metadata": {
    "collapsed": false
   },
   "outputs": [
    {
     "data": {
      "text/plain": [
       "[1, 2, 3, 4]"
      ]
     },
     "execution_count": 39,
     "metadata": {},
     "output_type": "execute_result"
    }
   ],
   "source": [
    "aList"
   ]
  },
  {
   "cell_type": "code",
   "execution_count": 42,
   "metadata": {
    "collapsed": false
   },
   "outputs": [
    {
     "name": "stdout",
     "output_type": "stream",
     "text": [
      "None\n"
     ]
    }
   ],
   "source": [
    "print(aList.reverse())"
   ]
  },
  {
   "cell_type": "code",
   "execution_count": 43,
   "metadata": {
    "collapsed": false
   },
   "outputs": [
    {
     "data": {
      "text/plain": [
       "1"
      ]
     },
     "execution_count": 43,
     "metadata": {},
     "output_type": "execute_result"
    }
   ],
   "source": [
    "aList.count(3)"
   ]
  },
  {
   "cell_type": "code",
   "execution_count": 46,
   "metadata": {
    "collapsed": false
   },
   "outputs": [],
   "source": [
    "aList.reverse() #reverse doesn't work?"
   ]
  },
  {
   "cell_type": "code",
   "execution_count": 47,
   "metadata": {
    "collapsed": false
   },
   "outputs": [
    {
     "data": {
      "text/plain": [
       "[1, 2, 3, 4]"
      ]
     },
     "execution_count": 47,
     "metadata": {},
     "output_type": "execute_result"
    }
   ],
   "source": [
    "aList"
   ]
  },
  {
   "cell_type": "markdown",
   "metadata": {},
   "source": [
    "## CSV"
   ]
  },
  {
   "cell_type": "code",
   "execution_count": 48,
   "metadata": {
    "collapsed": true
   },
   "outputs": [],
   "source": [
    "import csv"
   ]
  },
  {
   "cell_type": "code",
   "execution_count": 51,
   "metadata": {
    "collapsed": false
   },
   "outputs": [
    {
     "name": "stdout",
     "output_type": "stream",
     "text": [
      "'utf-8' codec can't decode byte 0xc6 in position 119: invalid continuation byte\n"
     ]
    }
   ],
   "source": [
    "with open(\"../../Downloads/600000.csv\") as csvfile:\n",
    "    readcsv = csv.reader(csvfile,delimiter='\\t')\n",
    "    try:\n",
    "        for row in readcsv:\n",
    "            print(row)\n",
    "    except Exception as e:\n",
    "        print(e)"
   ]
  },
  {
   "cell_type": "markdown",
   "metadata": {
    "collapsed": true
   },
   "source": [
    "## urllib"
   ]
  },
  {
   "cell_type": "code",
   "execution_count": 1,
   "metadata": {
    "collapsed": true
   },
   "outputs": [],
   "source": [
    "import urllib"
   ]
  },
  {
   "cell_type": "code",
   "execution_count": 2,
   "metadata": {
    "collapsed": false
   },
   "outputs": [
    {
     "name": "stdout",
     "output_type": "stream",
     "text": [
      "<urlopen error [Errno 65] No route to host>\n"
     ]
    }
   ],
   "source": [
    "try:\n",
    "    url = 'https://www.google.com/search?q=python'\n",
    "\n",
    "    # now, with the below headers, we defined ourselves as a simpleton who is\n",
    "    # still using internet explorer.\n",
    "    headers = {}\n",
    "    headers['User-Agent'] = \"Mozilla/5.0 (X11; Linux i686) AppleWebKit/537.17 (KHTML, like Gecko) Chrome/24.0.1312.27 Safari/537.17\"\n",
    "    req = urllib.request.Request(url, headers = headers)\n",
    "    resp = urllib.request.urlopen(req)\n",
    "    respData = resp.read()\n",
    "\n",
    "    saveFile = open('withHeaders.txt','w')\n",
    "    saveFile.write(str(respData))\n",
    "    saveFile.close()\n",
    "except Exception as e:\n",
    "    print(str(e))"
   ]
  },
  {
   "cell_type": "markdown",
   "metadata": {},
   "source": [
    "###從126.net獲取實時行情:"
   ]
  },
  {
   "cell_type": "code",
   "execution_count": 3,
   "metadata": {
    "collapsed": true
   },
   "outputs": [],
   "source": [
    "try:\n",
    "    url = \"http://api.money.126.net/data/feed/{ids}\".format(ids='1000001')\n",
    "    req = urllib.request.Request(url)\n",
    "    res = urllib.request.urlopen(req)\n",
    "    data = res.read()\n",
    "    fw = open(\"100001now.txt\",'w')\n",
    "    fw.write(str(data))\n",
    "    fw.close()\n",
    "except Exception as e:\n",
    "    print(str(e))"
   ]
  },
  {
   "cell_type": "code",
   "execution_count": 4,
   "metadata": {
    "collapsed": false
   },
   "outputs": [
    {
     "name": "stdout",
     "output_type": "stream",
     "text": [
      "b'_ntes_quote_callback({\"1000001\":{\"code\": \"1000001\", \"percent\": 0.017052, \"high\": 17.38, \"askvol3\": 163915, \"askvol2\": 582671, \"askvol5\": 284141, \"askvol4\": 91280, \"price\": 16.7, \"open\": 16.45, \"bid5\": 16.66, \"bid4\": 16.67, \"bid3\": 16.68, \"bid2\": 16.69, \"bid1\": 16.7, \"low\": 16.22, \"updown\": 0.28, \"type\": \"SZ\", \"bidvol1\": 1463290, \"status\": 0, \"bidvol3\": 228579, \"bidvol2\": 322508, \"symbol\": \"000001\", \"update\": \"2015/04/28 15:34:38\", \"bidvol5\": 58300, \"bidvol4\": 84100, \"volume\": 476354406, \"askvol1\": 63380, \"ask5\": 16.75, \"ask4\": 16.74, \"ask1\": 16.71, \"name\": \"\\\\u5e73\\\\u5b89\\\\u94f6\\\\u884c\", \"ask3\": 16.73, \"ask2\": 16.72, \"arrow\": \"\\\\u2191\", \"time\": \"2015/04/28 15:34:34\", \"yestclose\": 16.42, \"turnover\": 8014319269.76} });'\n"
     ]
    }
   ],
   "source": [
    "fr = open(\"100001now.txt\",\"r\")\n",
    "print(fr.read())\n",
    "fr.close()"
   ]
  },
  {
   "cell_type": "code",
   "execution_count": 11,
   "metadata": {
    "collapsed": false
   },
   "outputs": [],
   "source": [
    "def getQuote(ids ='1150153'):\n",
    "    try:\n",
    "        url = \"http://api.money.126.net/data/feed/{ids}\".format(ids=ids)\n",
    "        req = urllib.request.Request(url)\n",
    "        res = urllib.request.urlopen(req)\n",
    "        data = res.read()\n",
    "        '''\n",
    "        fw = open(\"100001now.txt\",'w')\n",
    "        fw.write(str(data))\n",
    "        fw.close()\n",
    "        ''' \n",
    "        return data\n",
    "    except Exception as e:\n",
    "        print(str(e))"
   ]
  },
  {
   "cell_type": "code",
   "execution_count": 12,
   "metadata": {
    "collapsed": false
   },
   "outputs": [
    {
     "data": {
      "text/plain": [
       "b'_ntes_quote_callback({\"1150153\":{\"code\": \"1150153\", \"percent\": -0.040054, \"high\": 1.511, \"askvol3\": 124600, \"askvol2\": 531, \"askvol5\": 160600, \"askvol4\": 137400, \"price\": 1.414, \"open\": 1.452, \"bid5\": 1.41, \"bid4\": 1.411, \"bid3\": 1.412, \"bid2\": 1.413, \"bid1\": 1.414, \"low\": 1.374, \"updown\": -0.059, \"type\": \"SZ\", \"bidvol1\": 1336100, \"status\": 0, \"bidvol3\": 477600, \"bidvol2\": 125800, \"symbol\": \"150153\", \"update\": \"2015/04/28 15:34:38\", \"bidvol5\": 1690600, \"bidvol4\": 340700, \"volume\": 197880480, \"askvol1\": 162343, \"ask5\": 1.419, \"ask4\": 1.418, \"ask1\": 1.415, \"name\": \"\\\\u521b\\\\u4e1a\\\\u677fB\", \"ask3\": 1.417, \"ask2\": 1.416, \"arrow\": \"\\\\u2193\", \"time\": \"2015/04/28 15:34:34\", \"yestclose\": 1.473, \"turnover\": 280773193.044} });'"
      ]
     },
     "execution_count": 12,
     "metadata": {},
     "output_type": "execute_result"
    }
   ],
   "source": [
    "getQuote()"
   ]
  },
  {
   "cell_type": "code",
   "execution_count": 13,
   "metadata": {
    "collapsed": false
   },
   "outputs": [
    {
     "data": {
      "text/plain": [
       "b'_ntes_quote_callback({\"1159915\":{\"code\": \"1159915\", \"percent\": -0.025283, \"high\": 2.693, \"askvol3\": 1000, \"askvol2\": 745300, \"askvol5\": 241700, \"askvol4\": 9000, \"price\": 2.583, \"open\": 2.67, \"bid5\": 2.578, \"bid4\": 2.579, \"bid3\": 2.58, \"bid2\": 2.581, \"bid1\": 2.582, \"low\": 2.555, \"updown\": -0.067, \"type\": \"SZ\", \"bidvol1\": 10000, \"status\": 0, \"bidvol3\": 341552, \"bidvol2\": 115500, \"symbol\": \"159915\", \"update\": \"2015/04/28 15:34:38\", \"bidvol5\": 63000, \"bidvol4\": 10000, \"volume\": 530901534, \"askvol1\": 187200, \"ask5\": 2.589, \"ask4\": 2.588, \"ask1\": 2.583, \"name\": \"\\\\u521b\\\\u4e1a\\\\u677f\", \"ask3\": 2.587, \"ask2\": 2.585, \"arrow\": \"\\\\u2193\", \"time\": \"2015/04/28 15:34:34\", \"yestclose\": 2.65, \"turnover\": 1380590764.748} });'"
      ]
     },
     "execution_count": 13,
     "metadata": {},
     "output_type": "execute_result"
    }
   ],
   "source": [
    "getQuote(1159915)"
   ]
  },
  {
   "cell_type": "code",
   "execution_count": 14,
   "metadata": {
    "collapsed": false
   },
   "outputs": [
    {
     "data": {
      "text/plain": [
       "b''"
      ]
     },
     "execution_count": 14,
     "metadata": {},
     "output_type": "execute_result"
    }
   ],
   "source": [
    "b'' #what's this??"
   ]
  },
  {
   "cell_type": "markdown",
   "metadata": {},
   "source": [
    "## RegEx"
   ]
  },
  {
   "cell_type": "code",
   "execution_count": 16,
   "metadata": {
    "collapsed": true
   },
   "outputs": [],
   "source": [
    "import re\n",
    "\n",
    "exampleString = '''\n",
    "Jessica is 15 years old, and Daniel is 27 years old.\n",
    "Edward is 97 years old, and his grandfather, Oscar, is 102. \n",
    "'''"
   ]
  },
  {
   "cell_type": "code",
   "execution_count": 17,
   "metadata": {
    "collapsed": false
   },
   "outputs": [
    {
     "name": "stdout",
     "output_type": "stream",
     "text": [
      "['15', '27', '97', '102']\n",
      "['Jessica', 'Daniel', 'Edward', 'Oscar']\n"
     ]
    }
   ],
   "source": [
    "#to abstract ages and names out\n",
    "\n",
    "ages = re.findall(r'\\d{1,3}',exampleString)\n",
    "names = re.findall(r'[A-Z][a-z]*',exampleString)\n",
    "\n",
    "print(ages)\n",
    "print(names)"
   ]
  },
  {
   "cell_type": "code",
   "execution_count": 18,
   "metadata": {
    "collapsed": true
   },
   "outputs": [],
   "source": [
    "# the next lesson will use this and urllib to parse a web page"
   ]
  },
  {
   "cell_type": "code",
   "execution_count": 2,
   "metadata": {
    "collapsed": false
   },
   "outputs": [],
   "source": [
    "#passed"
   ]
  },
  {
   "cell_type": "markdown",
   "metadata": {},
   "source": [
    "## Tkinter"
   ]
  },
  {
   "cell_type": "code",
   "execution_count": 1,
   "metadata": {
    "collapsed": true
   },
   "outputs": [],
   "source": [
    "from tkinter import *"
   ]
  },
  {
   "cell_type": "code",
   "execution_count": 2,
   "metadata": {
    "collapsed": false
   },
   "outputs": [],
   "source": [
    "class Window(Frame):\n",
    "    def __init__(self, master=None):\n",
    "        Frame.__init__(self, master)               \n",
    "        self.master = master\n",
    "        self.init_window()\n",
    "    #Creation of init_window\n",
    "    def init_window(self):\n",
    "\n",
    "        # changing the title of our master widget      \n",
    "        self.master.title(\"GUI\")\n",
    "\n",
    "        # allowing the widget to take the full space of the root window\n",
    "        self.pack(fill=BOTH, expand=1)\n",
    "        \n",
    "        # creating a menu instance\n",
    "        menu = Menu(self.master)\n",
    "        self.master.config(menu=menu)\n",
    "\n",
    "        # create the file object)\n",
    "        file = Menu(menu)\n",
    "\n",
    "        # adds a command to the menu option, calling it exit, and the\n",
    "        # command it runs on event is client_exit\n",
    "        file.add_command(label=\"Exit\", command=self.client_exit)\n",
    "\n",
    "        #added \"file\" to our menu\n",
    "        menu.add_cascade(label=\"File\", menu=file)\n",
    "\n",
    "        # create the file object)\n",
    "        edit = Menu(menu)\n",
    "\n",
    "        # adds a command to the menu option, calling it exit, and the\n",
    "        # command it runs on event is client_exit\n",
    "        edit.add_command(label=\"Undo\")\n",
    "\n",
    "        #added \"file\" to our menu\n",
    "        menu.add_cascade(label=\"Edit\", menu=edit)\n",
    "\n",
    "        # creating a button instance\n",
    "        #quitButton = Button(self, text=\"Quit\", command=self.client_exit)\n",
    "\n",
    "        # placing the button on my window\n",
    "        #quitButton.place(x=0, y=0)\n",
    "        \n",
    "    def client_exit(self):\n",
    "        exit()\n"
   ]
  },
  {
   "cell_type": "code",
   "execution_count": null,
   "metadata": {
    "collapsed": false
   },
   "outputs": [],
   "source": [
    "root = Tk()\n",
    "\n",
    "#size of the window\n",
    "root.geometry(\"400x300\")\n",
    "\n",
    "app = Window(root)\n",
    "root.mainloop()  "
   ]
  },
  {
   "cell_type": "code",
   "execution_count": 5,
   "metadata": {
    "collapsed": false
   },
   "outputs": [],
   "source": [
    "#why not app.mainloop()# root.mainloop() this is wrong? the tutorial version"
   ]
  },
  {
   "cell_type": "code",
   "execution_count": null,
   "metadata": {
    "collapsed": true
   },
   "outputs": [],
   "source": [
    "root2 = Tk()\n",
    "\n",
    "#size of the window\n",
    "root2.geometry(\"400x300\")\n",
    "\n",
    "app = Window(root2)\n",
    "root2.mainloop()  "
   ]
  },
  {
   "cell_type": "markdown",
   "metadata": {
    "collapsed": true
   },
   "source": [
    "## Scope "
   ]
  },
  {
   "cell_type": "code",
   "execution_count": 2,
   "metadata": {
    "collapsed": false
   },
   "outputs": [
    {
     "name": "stdout",
     "output_type": "stream",
     "text": [
      "6\n",
      "5\n"
     ]
    }
   ],
   "source": [
    "# this variable has no parent function, but is actually NOT a global variable.\n",
    "# it just so happens that it is committed to memory before the function is called\n",
    "# so we are able to iterate, or call it out, but we cannot do much else.\n",
    "\n",
    "x = 6\n",
    "\n",
    "def example():\n",
    "    print(x)\n",
    "    # z, however, is a local variable.  \n",
    "    z = 5\n",
    "    # this works\n",
    "    print(z)\n",
    "    \n",
    "example()"
   ]
  },
  {
   "cell_type": "code",
   "execution_count": 3,
   "metadata": {
    "collapsed": false
   },
   "outputs": [
    {
     "ename": "NameError",
     "evalue": "name 'z' is not defined",
     "output_type": "error",
     "traceback": [
      "\u001b[0;31m---------------------------------------------------------------------------\u001b[0m",
      "\u001b[0;31mNameError\u001b[0m                                 Traceback (most recent call last)",
      "\u001b[0;32m<ipython-input-3-cf3e0b7d8c92>\u001b[0m in \u001b[0;36m<module>\u001b[0;34m()\u001b[0m\n\u001b[1;32m      3\u001b[0m \u001b[0;31m# variable only, and you are attempting to access it globally.\u001b[0m\u001b[0;34m\u001b[0m\u001b[0;34m\u001b[0m\u001b[0m\n\u001b[1;32m      4\u001b[0m \u001b[0;34m\u001b[0m\u001b[0m\n\u001b[0;32m----> 5\u001b[0;31m \u001b[0mprint\u001b[0m\u001b[0;34m(\u001b[0m\u001b[0mz\u001b[0m\u001b[0;34m)\u001b[0m\u001b[0;34m\u001b[0m\u001b[0m\n\u001b[0m",
      "\u001b[0;31mNameError\u001b[0m: name 'z' is not defined"
     ]
    }
   ],
   "source": [
    "# this does not, which often confuses people, because z has been defined\n",
    "# and successfully even was called... the problem is that it is a local\n",
    "# variable only, and you are attempting to access it globally.\n",
    "\n",
    "print(z)"
   ]
  },
  {
   "cell_type": "code",
   "execution_count": 4,
   "metadata": {
    "collapsed": true
   },
   "outputs": [],
   "source": [
    "x = 6\n",
    "\n",
    "def example2():\n",
    "    # works\n",
    "    print(x)\n",
    "    print(x+5)\n",
    "\n",
    "    # but then what happens when we go to modify:\n",
    "    x+=6\n",
    "\n",
    "    # so there we attempted to take the x var and add 6 to it... but now\n",
    "    # we are told that we cannot, as we're referencing the variable before\n",
    "    # its assignment."
   ]
  },
  {
   "cell_type": "code",
   "execution_count": 5,
   "metadata": {
    "collapsed": false
   },
   "outputs": [
    {
     "ename": "UnboundLocalError",
     "evalue": "local variable 'x' referenced before assignment",
     "output_type": "error",
     "traceback": [
      "\u001b[0;31m---------------------------------------------------------------------------\u001b[0m",
      "\u001b[0;31mUnboundLocalError\u001b[0m                         Traceback (most recent call last)",
      "\u001b[0;32m<ipython-input-5-948b38befdd2>\u001b[0m in \u001b[0;36m<module>\u001b[0;34m()\u001b[0m\n\u001b[0;32m----> 1\u001b[0;31m \u001b[0mexample2\u001b[0m\u001b[0;34m(\u001b[0m\u001b[0;34m)\u001b[0m\u001b[0;34m\u001b[0m\u001b[0m\n\u001b[0m",
      "\u001b[0;32m<ipython-input-4-3775fd1af659>\u001b[0m in \u001b[0;36mexample2\u001b[0;34m()\u001b[0m\n\u001b[1;32m      3\u001b[0m \u001b[0;32mdef\u001b[0m \u001b[0mexample2\u001b[0m\u001b[0;34m(\u001b[0m\u001b[0;34m)\u001b[0m\u001b[0;34m:\u001b[0m\u001b[0;34m\u001b[0m\u001b[0m\n\u001b[1;32m      4\u001b[0m     \u001b[0;31m# works\u001b[0m\u001b[0;34m\u001b[0m\u001b[0;34m\u001b[0m\u001b[0m\n\u001b[0;32m----> 5\u001b[0;31m     \u001b[0mprint\u001b[0m\u001b[0;34m(\u001b[0m\u001b[0mx\u001b[0m\u001b[0;34m)\u001b[0m\u001b[0;34m\u001b[0m\u001b[0m\n\u001b[0m\u001b[1;32m      6\u001b[0m     \u001b[0mprint\u001b[0m\u001b[0;34m(\u001b[0m\u001b[0mx\u001b[0m\u001b[0;34m+\u001b[0m\u001b[0;36m5\u001b[0m\u001b[0;34m)\u001b[0m\u001b[0;34m\u001b[0m\u001b[0m\n\u001b[1;32m      7\u001b[0m \u001b[0;34m\u001b[0m\u001b[0m\n",
      "\u001b[0;31mUnboundLocalError\u001b[0m: local variable 'x' referenced before assignment"
     ]
    }
   ],
   "source": [
    "example2()"
   ]
  },
  {
   "cell_type": "markdown",
   "metadata": {
    "collapsed": true
   },
   "source": [
    "##(I skipped)"
   ]
  },
  {
   "cell_type": "code",
   "execution_count": null,
   "metadata": {
    "collapsed": true
   },
   "outputs": [],
   "source": [
    "import socket\n",
    "import sys\n",
    "from _thread import *\n",
    "\n",
    "host = ''\n",
    "port = 5555\n",
    "s = socket.socket(socket.AF_INET, socket.SOCK_STREAM)\n",
    "\n",
    "try:\n",
    "    s.bind((host, port))\n",
    "except socket.error as e:\n",
    "    print(str(e))\n",
    "\n",
    "s.listen(5)\n",
    "print('Waiting for a connection.')\n",
    "def threaded_client(conn):\n",
    "    conn.send(str.encode('Welcome, type your info\\n'))\n",
    "\n",
    "    while True:\n",
    "        data = conn.recv(2048)\n",
    "        reply = 'Server output: '+ data.decode('utf-8')\n",
    "        if not data:\n",
    "            break\n",
    "        conn.sendall(str.encode(reply))\n",
    "    conn.close()\n",
    "\n",
    "\n",
    "while True:\n",
    "\n",
    "    conn, addr = s.accept()\n",
    "    print('connected to: '+addr[0]+':'+str(addr[1]))\n",
    "\n",
    "    start_new_thread(threaded_client,(conn,))"
   ]
  },
  {
   "cell_type": "code",
   "execution_count": null,
   "metadata": {
    "collapsed": true
   },
   "outputs": [],
   "source": []
  }
 ],
 "metadata": {
  "kernelspec": {
   "display_name": "Python 3",
   "language": "python",
   "name": "python3"
  },
  "language_info": {
   "codemirror_mode": {
    "name": "ipython",
    "version": 3
   },
   "file_extension": ".py",
   "mimetype": "text/x-python",
   "name": "python",
   "nbconvert_exporter": "python",
   "pygments_lexer": "ipython3",
   "version": "3.4.3"
  }
 },
 "nbformat": 4,
 "nbformat_minor": 0
}
